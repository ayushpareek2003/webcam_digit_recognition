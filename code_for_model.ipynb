{
 "cells": [
  {
   "cell_type": "code",
   "execution_count": 2,
   "metadata": {},
   "outputs": [],
   "source": [
    "import tensorflow as tf  \n",
    "import matplotlib.pyplot as pt\n",
    "import pandas as pd"
   ]
  },
  {
   "cell_type": "code",
   "execution_count": 12,
   "metadata": {},
   "outputs": [],
   "source": [
    "Data=pd.read_csv(\"train.csv\")"
   ]
  },
  {
   "cell_type": "code",
   "execution_count": 4,
   "metadata": {},
   "outputs": [],
   "source": [
    "photo=Data.drop('label',axis=1)\n",
    "lb=Data['label']\n",
    "photo=photo.values.reshape(-1,28,28,1)"
   ]
  },
  {
   "cell_type": "code",
   "execution_count": 5,
   "metadata": {},
   "outputs": [
    {
     "name": "stdout",
     "output_type": "stream",
     "text": [
      "7\n"
     ]
    },
    {
     "data": {
      "text/plain": [
       "Text(0.5, 0, '')"
      ]
     },
     "execution_count": 5,
     "metadata": {},
     "output_type": "execute_result"
    },
    {
     "data": {
      "image/png": "[encoded data removed]",
      "text/plain": [
       "<Figure size 640x480 with 1 Axes>"
      ]
     },
     "metadata": {},
     "output_type": "display_data"
    }
   ],
   "source": [
    "\n",
    "pt.imshow(photo[6],cmap='gray')\n",
    "pt.xlabel(print(lb[6]))\n"
   ]
  },
  {
   "cell_type": "code",
   "execution_count": 6,
   "metadata": {},
   "outputs": [],
   "source": [
    "\n",
    "lb= tf.keras.utils.to_categorical(lb, num_classes = 10)"
   ]
  },
  {
   "cell_type": "code",
   "execution_count": 24,
   "metadata": {},
   "outputs": [
    {
     "name": "stdout",
     "output_type": "stream",
     "text": [
      "Epoch 1/10\n",
      "1313/1313 [==============================] - 60s 45ms/step - loss: 1.4241 - accuracy: 0.9341\n",
      "Epoch 2/10\n",
      "1313/1313 [==============================] - 60s 46ms/step - loss: 0.0762 - accuracy: 0.9778\n",
      "Epoch 3/10\n",
      "1313/1313 [==============================] - 59s 45ms/step - loss: 0.0524 - accuracy: 0.9834\n",
      "Epoch 4/10\n",
      "1313/1313 [==============================] - 60s 46ms/step - loss: 0.0437 - accuracy: 0.9866\n",
      "Epoch 5/10\n",
      "1313/1313 [==============================] - 59s 45ms/step - loss: 0.0408 - accuracy: 0.9878\n",
      "Epoch 6/10\n",
      "1313/1313 [==============================] - 61s 46ms/step - loss: 0.0373 - accuracy: 0.9889\n",
      "Epoch 7/10\n",
      "1313/1313 [==============================] - 58s 44ms/step - loss: 0.0351 - accuracy: 0.9901\n",
      "Epoch 8/10\n",
      "1313/1313 [==============================] - 59s 45ms/step - loss: 0.0223 - accuracy: 0.9937\n",
      "Epoch 9/10\n",
      "1313/1313 [==============================] - 58s 44ms/step - loss: 0.0253 - accuracy: 0.9935\n",
      "Epoch 10/10\n",
      "1313/1313 [==============================] - 59s 45ms/step - loss: 0.0226 - accuracy: 0.9946\n"
     ]
    },
    {
     "data": {
      "text/plain": [
       "<keras.src.callbacks.History at 0x1d20dd91710>"
      ]
     },
     "execution_count": 24,
     "metadata": {},
     "output_type": "execute_result"
    }
   ],
   "source": [
    "model=tf.keras.Sequential([tf.keras.layers.Conv2D(32,kernel_size=(3,3),activation='relu',input_shape=(28,28,1)),\n",
    "                           tf.keras.layers.MaxPool2D(2,2),tf.keras.layers.Flatten(),tf.keras.layers.Dense(512,activation='relu'),tf.keras.layers.Dense(10,activation='softmax')])\n",
    "model.compile(optimizer='adam',loss='categorical_crossentropy',metrics=['accuracy'])\n",
    "model.fit(photo,lb,epochs=10)\n"
   ]
  },
  {
   "cell_type": "code",
   "execution_count": 25,
   "metadata": {},
   "outputs": [
    {
     "name": "stderr",
     "output_type": "stream",
     "text": [
      "C:\\Users\\ayush\\AppData\\Local\\Packages\\PythonSoftwareFoundation.Python.3.11_qbz5n2kfra8p0\\LocalCache\\local-packages\\Python311\\site-packages\\keras\\src\\engine\\training.py:3079: UserWarning: You are saving your model as an HDF5 file via `model.save()`. This file format is considered legacy. We recommend using instead the native Keras format, e.g. `model.save('my_model.keras')`.\n",
      "  saving_api.save_model(\n"
     ]
    }
   ],
   "source": [
    "model.save(\"rJ_31.h5\")"
   ]
  }
 ],
 "metadata": {
  "kernelspec": {
   "display_name": "Python 3",
   "language": "python",
   "name": "python3"
  },
  "language_info": {
   "codemirror_mode": {
    "name": "ipython",
    "version": 3
   },
   "file_extension": ".py",
   "mimetype": "text/x-python",
   "name": "python",
   "nbconvert_exporter": "python",
   "pygments_lexer": "ipython3",
   "version": "3.11.5"
  }
 },
 "nbformat": 4,
 "nbformat_minor": 2
}
